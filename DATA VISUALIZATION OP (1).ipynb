{
 "cells": [
  {
   "cell_type": "markdown",
   "metadata": {},
   "source": [
    "# <center>CHALLENGE 3<center>"
   ]
  },
  {
   "cell_type": "markdown",
   "metadata": {},
   "source": [
    "<p>Team Name: Yu-Mex\n",
    "<p>Student Names: Marco Figueroa, Slavko Slevic, Oluwaseun Doherty\n",
    "<p>Student W#s: 0730286, 0724929, 0745589"
   ]
  },
  {
   "cell_type": "markdown",
   "metadata": {},
   "source": [
    "## Instructions\n",
    "Use generic coding style unless hard-coded values are really necessary.<br>\n",
    "Your code must be efficient and use self-explanatory naming.<br>\n",
    "Use appropriate Python library methods for each task instead of using loops.<br>\n",
    "Run your entire code and save. Then submit this <b>saved</b> copy."
   ]
  },
  {
   "cell_type": "markdown",
   "metadata": {
    "collapsed": true
   },
   "source": [
    "## Imports"
   ]
  },
  {
   "cell_type": "code",
   "execution_count": 121,
   "metadata": {},
   "outputs": [],
   "source": [
    "import pandas as pd\n",
    "import numpy as np\n",
    "import io\n",
    "import requests\n",
    "import matplotlib.pyplot as plt"
   ]
  },
  {
   "cell_type": "markdown",
   "metadata": {},
   "source": [
    "## Loading Data"
   ]
  },
  {
   "cell_type": "markdown",
   "metadata": {
    "collapsed": true
   },
   "source": [
    "Load \"titanic.csv\" into the data frame object \"data\"</br>\n",
    "[train.csv](https://github.com/wesm/pydata-book/blob/2nd-edition/datasets/titanic/train.csv)"
   ]
  },
  {
   "cell_type": "code",
   "execution_count": 2,
   "metadata": {},
   "outputs": [],
   "source": [
    "url = \"https://raw.githubusercontent.com/wesm/pydata-book/2nd-edition/datasets/titanic/train.csv\"\n",
    "download = requests.get(url).content\n",
    "\n",
    "data = pd.read_csv(io.StringIO(download.decode('utf-8')))"
   ]
  },
  {
   "cell_type": "code",
   "execution_count": 165,
   "metadata": {},
   "outputs": [
    {
     "data": {
      "text/html": [
       "<div>\n",
       "<style scoped>\n",
       "    .dataframe tbody tr th:only-of-type {\n",
       "        vertical-align: middle;\n",
       "    }\n",
       "\n",
       "    .dataframe tbody tr th {\n",
       "        vertical-align: top;\n",
       "    }\n",
       "\n",
       "    .dataframe thead th {\n",
       "        text-align: right;\n",
       "    }\n",
       "</style>\n",
       "<table border=\"1\" class=\"dataframe\">\n",
       "  <thead>\n",
       "    <tr style=\"text-align: right;\">\n",
       "      <th></th>\n",
       "      <th>PassengerId</th>\n",
       "      <th>Survived</th>\n",
       "      <th>Pclass</th>\n",
       "      <th>Name</th>\n",
       "      <th>Sex</th>\n",
       "      <th>Age</th>\n",
       "      <th>SibSp</th>\n",
       "      <th>Parch</th>\n",
       "      <th>Ticket</th>\n",
       "      <th>Fare</th>\n",
       "      <th>Cabin</th>\n",
       "      <th>Embarked</th>\n",
       "    </tr>\n",
       "  </thead>\n",
       "  <tbody>\n",
       "    <tr>\n",
       "      <th>0</th>\n",
       "      <td>1</td>\n",
       "      <td>0</td>\n",
       "      <td>3</td>\n",
       "      <td>Braund, Mr. Owen Harris</td>\n",
       "      <td>male</td>\n",
       "      <td>22.0</td>\n",
       "      <td>1</td>\n",
       "      <td>0</td>\n",
       "      <td>A/5 21171</td>\n",
       "      <td>7.2500</td>\n",
       "      <td>NaN</td>\n",
       "      <td>S</td>\n",
       "    </tr>\n",
       "    <tr>\n",
       "      <th>1</th>\n",
       "      <td>2</td>\n",
       "      <td>1</td>\n",
       "      <td>1</td>\n",
       "      <td>Cumings, Mrs. John Bradley (Florence Briggs Th...</td>\n",
       "      <td>female</td>\n",
       "      <td>38.0</td>\n",
       "      <td>1</td>\n",
       "      <td>0</td>\n",
       "      <td>PC 17599</td>\n",
       "      <td>71.2833</td>\n",
       "      <td>C85</td>\n",
       "      <td>C</td>\n",
       "    </tr>\n",
       "    <tr>\n",
       "      <th>2</th>\n",
       "      <td>3</td>\n",
       "      <td>1</td>\n",
       "      <td>3</td>\n",
       "      <td>Heikkinen, Miss. Laina</td>\n",
       "      <td>female</td>\n",
       "      <td>26.0</td>\n",
       "      <td>0</td>\n",
       "      <td>0</td>\n",
       "      <td>STON/O2. 3101282</td>\n",
       "      <td>7.9250</td>\n",
       "      <td>NaN</td>\n",
       "      <td>S</td>\n",
       "    </tr>\n",
       "    <tr>\n",
       "      <th>3</th>\n",
       "      <td>4</td>\n",
       "      <td>1</td>\n",
       "      <td>1</td>\n",
       "      <td>Futrelle, Mrs. Jacques Heath (Lily May Peel)</td>\n",
       "      <td>female</td>\n",
       "      <td>35.0</td>\n",
       "      <td>1</td>\n",
       "      <td>0</td>\n",
       "      <td>113803</td>\n",
       "      <td>53.1000</td>\n",
       "      <td>C123</td>\n",
       "      <td>S</td>\n",
       "    </tr>\n",
       "    <tr>\n",
       "      <th>4</th>\n",
       "      <td>5</td>\n",
       "      <td>0</td>\n",
       "      <td>3</td>\n",
       "      <td>Allen, Mr. William Henry</td>\n",
       "      <td>male</td>\n",
       "      <td>35.0</td>\n",
       "      <td>0</td>\n",
       "      <td>0</td>\n",
       "      <td>373450</td>\n",
       "      <td>8.0500</td>\n",
       "      <td>NaN</td>\n",
       "      <td>S</td>\n",
       "    </tr>\n",
       "  </tbody>\n",
       "</table>\n",
       "</div>"
      ],
      "text/plain": [
       "   PassengerId  Survived  Pclass  \\\n",
       "0            1         0       3   \n",
       "1            2         1       1   \n",
       "2            3         1       3   \n",
       "3            4         1       1   \n",
       "4            5         0       3   \n",
       "\n",
       "                                                Name     Sex   Age  SibSp  \\\n",
       "0                            Braund, Mr. Owen Harris    male  22.0      1   \n",
       "1  Cumings, Mrs. John Bradley (Florence Briggs Th...  female  38.0      1   \n",
       "2                             Heikkinen, Miss. Laina  female  26.0      0   \n",
       "3       Futrelle, Mrs. Jacques Heath (Lily May Peel)  female  35.0      1   \n",
       "4                           Allen, Mr. William Henry    male  35.0      0   \n",
       "\n",
       "   Parch            Ticket     Fare Cabin Embarked  \n",
       "0      0         A/5 21171   7.2500   NaN        S  \n",
       "1      0          PC 17599  71.2833   C85        C  \n",
       "2      0  STON/O2. 3101282   7.9250   NaN        S  \n",
       "3      0            113803  53.1000  C123        S  \n",
       "4      0            373450   8.0500   NaN        S  "
      ]
     },
     "execution_count": 165,
     "metadata": {},
     "output_type": "execute_result"
    }
   ],
   "source": [
    "data.head()\n",
    "\n"
   ]
  },
  {
   "cell_type": "markdown",
   "metadata": {},
   "source": [
    "## Data Processing"
   ]
  },
  {
   "cell_type": "markdown",
   "metadata": {},
   "source": [
    "Create a data frame object \"pasUpto19\".\n",
    "> Columns of pasUpto19 = {AGE_12, AGE_TEEN, PCLASS}.<br>\n",
    "> AGE_12 : Passengers with age in \\[1, 12]<br>\n",
    "> AGE_TEEN : Passengers with age in \\[13, 19]<br>"
   ]
  },
  {
   "cell_type": "code",
   "execution_count": 44,
   "metadata": {},
   "outputs": [
    {
     "data": {
      "text/html": [
       "<div>\n",
       "<style scoped>\n",
       "    .dataframe tbody tr th:only-of-type {\n",
       "        vertical-align: middle;\n",
       "    }\n",
       "\n",
       "    .dataframe tbody tr th {\n",
       "        vertical-align: top;\n",
       "    }\n",
       "\n",
       "    .dataframe thead th {\n",
       "        text-align: right;\n",
       "    }\n",
       "</style>\n",
       "<table border=\"1\" class=\"dataframe\">\n",
       "  <thead>\n",
       "    <tr style=\"text-align: right;\">\n",
       "      <th></th>\n",
       "      <th>AGE_12</th>\n",
       "      <th>AGE_TEEN</th>\n",
       "      <th>PCLASS</th>\n",
       "    </tr>\n",
       "  </thead>\n",
       "  <tbody>\n",
       "    <tr>\n",
       "      <th>7</th>\n",
       "      <td>2.0</td>\n",
       "      <td>NaN</td>\n",
       "      <td>3</td>\n",
       "    </tr>\n",
       "    <tr>\n",
       "      <th>9</th>\n",
       "      <td>NaN</td>\n",
       "      <td>14.0</td>\n",
       "      <td>2</td>\n",
       "    </tr>\n",
       "    <tr>\n",
       "      <th>10</th>\n",
       "      <td>4.0</td>\n",
       "      <td>NaN</td>\n",
       "      <td>3</td>\n",
       "    </tr>\n",
       "    <tr>\n",
       "      <th>14</th>\n",
       "      <td>NaN</td>\n",
       "      <td>14.0</td>\n",
       "      <td>3</td>\n",
       "    </tr>\n",
       "    <tr>\n",
       "      <th>16</th>\n",
       "      <td>2.0</td>\n",
       "      <td>NaN</td>\n",
       "      <td>3</td>\n",
       "    </tr>\n",
       "    <tr>\n",
       "      <th>22</th>\n",
       "      <td>NaN</td>\n",
       "      <td>15.0</td>\n",
       "      <td>3</td>\n",
       "    </tr>\n",
       "    <tr>\n",
       "      <th>24</th>\n",
       "      <td>8.0</td>\n",
       "      <td>NaN</td>\n",
       "      <td>3</td>\n",
       "    </tr>\n",
       "    <tr>\n",
       "      <th>27</th>\n",
       "      <td>NaN</td>\n",
       "      <td>19.0</td>\n",
       "      <td>1</td>\n",
       "    </tr>\n",
       "    <tr>\n",
       "      <th>38</th>\n",
       "      <td>NaN</td>\n",
       "      <td>18.0</td>\n",
       "      <td>3</td>\n",
       "    </tr>\n",
       "    <tr>\n",
       "      <th>39</th>\n",
       "      <td>NaN</td>\n",
       "      <td>14.0</td>\n",
       "      <td>3</td>\n",
       "    </tr>\n",
       "  </tbody>\n",
       "</table>\n",
       "</div>"
      ],
      "text/plain": [
       "    AGE_12  AGE_TEEN  PCLASS\n",
       "7      2.0       NaN       3\n",
       "9      NaN      14.0       2\n",
       "10     4.0       NaN       3\n",
       "14     NaN      14.0       3\n",
       "16     2.0       NaN       3\n",
       "22     NaN      15.0       3\n",
       "24     8.0       NaN       3\n",
       "27     NaN      19.0       1\n",
       "38     NaN      18.0       3\n",
       "39     NaN      14.0       3"
      ]
     },
     "execution_count": 44,
     "metadata": {},
     "output_type": "execute_result"
    }
   ],
   "source": [
    "pas1to12 = data[data[\"Age\"].isin(range(1,13))]\n",
    "pas13to19 = data[data[\"Age\"].isin(range(13,20))]\n",
    "\n",
    "pasUpto19 = pd.DataFrame(data={\"AGE_12\": pas1to12[\"Age\"], \"AGE_TEEN\": pas13to19[\"Age\"], \"PCLASS\": data[\"Pclass\"]})\n",
    "pasUpto19 = pasUpto19[(pasUpto19[\"AGE_12\"].isna() == False) | (pasUpto19[\"AGE_TEEN\"].isna() == False)]\n",
    "\n",
    "pasUpto19.head(10)\n"
   ]
  },
  {
   "cell_type": "markdown",
   "metadata": {},
   "source": [
    "Display 5 rows below and above the middle row of \"pasUpto19\":"
   ]
  },
  {
   "cell_type": "code",
   "execution_count": 45,
   "metadata": {},
   "outputs": [
    {
     "data": {
      "text/html": [
       "<div>\n",
       "<style scoped>\n",
       "    .dataframe tbody tr th:only-of-type {\n",
       "        vertical-align: middle;\n",
       "    }\n",
       "\n",
       "    .dataframe tbody tr th {\n",
       "        vertical-align: top;\n",
       "    }\n",
       "\n",
       "    .dataframe thead th {\n",
       "        text-align: right;\n",
       "    }\n",
       "</style>\n",
       "<table border=\"1\" class=\"dataframe\">\n",
       "  <thead>\n",
       "    <tr style=\"text-align: right;\">\n",
       "      <th></th>\n",
       "      <th>AGE_12</th>\n",
       "      <th>AGE_TEEN</th>\n",
       "      <th>PCLASS</th>\n",
       "    </tr>\n",
       "  </thead>\n",
       "  <tbody>\n",
       "    <tr>\n",
       "      <th>385</th>\n",
       "      <td>NaN</td>\n",
       "      <td>18.0</td>\n",
       "      <td>2</td>\n",
       "    </tr>\n",
       "    <tr>\n",
       "      <th>386</th>\n",
       "      <td>1.0</td>\n",
       "      <td>NaN</td>\n",
       "      <td>3</td>\n",
       "    </tr>\n",
       "    <tr>\n",
       "      <th>389</th>\n",
       "      <td>NaN</td>\n",
       "      <td>17.0</td>\n",
       "      <td>2</td>\n",
       "    </tr>\n",
       "    <tr>\n",
       "      <th>407</th>\n",
       "      <td>3.0</td>\n",
       "      <td>NaN</td>\n",
       "      <td>2</td>\n",
       "    </tr>\n",
       "    <tr>\n",
       "      <th>417</th>\n",
       "      <td>NaN</td>\n",
       "      <td>18.0</td>\n",
       "      <td>2</td>\n",
       "    </tr>\n",
       "    <tr>\n",
       "      <th>419</th>\n",
       "      <td>10.0</td>\n",
       "      <td>NaN</td>\n",
       "      <td>3</td>\n",
       "    </tr>\n",
       "    <tr>\n",
       "      <th>424</th>\n",
       "      <td>NaN</td>\n",
       "      <td>18.0</td>\n",
       "      <td>3</td>\n",
       "    </tr>\n",
       "    <tr>\n",
       "      <th>427</th>\n",
       "      <td>NaN</td>\n",
       "      <td>19.0</td>\n",
       "      <td>2</td>\n",
       "    </tr>\n",
       "    <tr>\n",
       "      <th>433</th>\n",
       "      <td>NaN</td>\n",
       "      <td>17.0</td>\n",
       "      <td>3</td>\n",
       "    </tr>\n",
       "    <tr>\n",
       "      <th>435</th>\n",
       "      <td>NaN</td>\n",
       "      <td>14.0</td>\n",
       "      <td>1</td>\n",
       "    </tr>\n",
       "    <tr>\n",
       "      <th>445</th>\n",
       "      <td>4.0</td>\n",
       "      <td>NaN</td>\n",
       "      <td>1</td>\n",
       "    </tr>\n",
       "  </tbody>\n",
       "</table>\n",
       "</div>"
      ],
      "text/plain": [
       "     AGE_12  AGE_TEEN  PCLASS\n",
       "385     NaN      18.0       2\n",
       "386     1.0       NaN       3\n",
       "389     NaN      17.0       2\n",
       "407     3.0       NaN       2\n",
       "417     NaN      18.0       2\n",
       "419    10.0       NaN       3\n",
       "424     NaN      18.0       3\n",
       "427     NaN      19.0       2\n",
       "433     NaN      17.0       3\n",
       "435     NaN      14.0       1\n",
       "445     4.0       NaN       1"
      ]
     },
     "execution_count": 45,
     "metadata": {},
     "output_type": "execute_result"
    }
   ],
   "source": [
    "mid = (int)(len(pasUpto19)/2)\n",
    "pasUpto19.iloc[mid-5:mid+6]"
   ]
  },
  {
   "cell_type": "markdown",
   "metadata": {},
   "source": [
    "Group pasUpto19 by AGE_TEEN:"
   ]
  },
  {
   "cell_type": "code",
   "execution_count": 49,
   "metadata": {},
   "outputs": [
    {
     "data": {
      "text/html": [
       "<div>\n",
       "<style scoped>\n",
       "    .dataframe tbody tr th:only-of-type {\n",
       "        vertical-align: middle;\n",
       "    }\n",
       "\n",
       "    .dataframe tbody tr th {\n",
       "        vertical-align: top;\n",
       "    }\n",
       "\n",
       "    .dataframe thead th {\n",
       "        text-align: right;\n",
       "    }\n",
       "</style>\n",
       "<table border=\"1\" class=\"dataframe\">\n",
       "  <thead>\n",
       "    <tr style=\"text-align: right;\">\n",
       "      <th></th>\n",
       "      <th>AGE_TEEN</th>\n",
       "      <th>0</th>\n",
       "    </tr>\n",
       "  </thead>\n",
       "  <tbody>\n",
       "    <tr>\n",
       "      <th>0</th>\n",
       "      <td>13.0</td>\n",
       "      <td>2</td>\n",
       "    </tr>\n",
       "    <tr>\n",
       "      <th>1</th>\n",
       "      <td>14.0</td>\n",
       "      <td>6</td>\n",
       "    </tr>\n",
       "    <tr>\n",
       "      <th>2</th>\n",
       "      <td>15.0</td>\n",
       "      <td>5</td>\n",
       "    </tr>\n",
       "    <tr>\n",
       "      <th>3</th>\n",
       "      <td>16.0</td>\n",
       "      <td>17</td>\n",
       "    </tr>\n",
       "    <tr>\n",
       "      <th>4</th>\n",
       "      <td>17.0</td>\n",
       "      <td>13</td>\n",
       "    </tr>\n",
       "    <tr>\n",
       "      <th>5</th>\n",
       "      <td>18.0</td>\n",
       "      <td>26</td>\n",
       "    </tr>\n",
       "    <tr>\n",
       "      <th>6</th>\n",
       "      <td>19.0</td>\n",
       "      <td>25</td>\n",
       "    </tr>\n",
       "  </tbody>\n",
       "</table>\n",
       "</div>"
      ],
      "text/plain": [
       "   AGE_TEEN   0\n",
       "0      13.0   2\n",
       "1      14.0   6\n",
       "2      15.0   5\n",
       "3      16.0  17\n",
       "4      17.0  13\n",
       "5      18.0  26\n",
       "6      19.0  25"
      ]
     },
     "execution_count": 49,
     "metadata": {},
     "output_type": "execute_result"
    }
   ],
   "source": [
    "pasUpto19.groupby([\"AGE_TEEN\"]).size().reset_index()"
   ]
  },
  {
   "cell_type": "markdown",
   "metadata": {},
   "source": [
    "Get the mean of PCLASS for each group of AGE_TEEN and display the mean by age groups:"
   ]
  },
  {
   "cell_type": "code",
   "execution_count": 58,
   "metadata": {},
   "outputs": [
    {
     "name": "stdout",
     "output_type": "stream",
     "text": [
      "            PCLASS\n",
      "AGE_TEEN          \n",
      "13.0      2.500000\n",
      "14.0      2.500000\n",
      "15.0      2.600000\n",
      "16.0      2.529412\n",
      "17.0      2.384615\n",
      "18.0      2.461538\n",
      "19.0      2.360000\n"
     ]
    }
   ],
   "source": [
    "groupedByTeen = pasUpto19[[\"AGE_TEEN\", \"PCLASS\"]].groupby([\"AGE_TEEN\"]).mean()\n",
    "print(groupedByTeen)"
   ]
  },
  {
   "cell_type": "markdown",
   "metadata": {},
   "source": [
    "Sort \"pasUpto19\" by the age of teenages and store into a DF object \"pasUpto19_sortTeen\":"
   ]
  },
  {
   "cell_type": "code",
   "execution_count": 59,
   "metadata": {},
   "outputs": [
    {
     "name": "stdout",
     "output_type": "stream",
     "text": [
      "            PCLASS\n",
      "AGE_TEEN          \n",
      "13.0      2.500000\n",
      "14.0      2.500000\n",
      "15.0      2.600000\n",
      "16.0      2.529412\n",
      "17.0      2.384615\n",
      "18.0      2.461538\n",
      "19.0      2.360000\n"
     ]
    }
   ],
   "source": [
    "pasUpto19_sortTeen = groupedByTeen.sort_values(by=['AGE_TEEN'])\n",
    "print(pasUpto19_sortTeen)"
   ]
  },
  {
   "cell_type": "markdown",
   "metadata": {},
   "source": [
    "## Summarize Data"
   ]
  },
  {
   "cell_type": "markdown",
   "metadata": {},
   "source": [
    "Create \"pasUpto19_stat\" an object from the statistics of pasUpto19. Use the method describe(). Print the statistics."
   ]
  },
  {
   "cell_type": "code",
   "execution_count": 60,
   "metadata": {},
   "outputs": [
    {
     "name": "stdout",
     "output_type": "stream",
     "text": [
      "          AGE_12   AGE_TEEN      PCLASS\n",
      "count  62.000000  94.000000  156.000000\n",
      "mean    5.225806  17.244681    2.538462\n",
      "std     3.276440   1.617686    0.712873\n",
      "min     1.000000  13.000000    1.000000\n",
      "25%     2.000000  16.000000    2.000000\n",
      "50%     4.000000  18.000000    3.000000\n",
      "75%     8.000000  19.000000    3.000000\n",
      "max    12.000000  19.000000    3.000000\n"
     ]
    }
   ],
   "source": [
    "pasUpto19_stat = pasUpto19.describe()\n",
    "print(pasUpto19_stat)"
   ]
  },
  {
   "cell_type": "markdown",
   "metadata": {},
   "source": [
    "Store each statistics of pasUpto19_stat into a multi-dimensional list \"pasUpto19_stat_lst\" individually. Print the list."
   ]
  },
  {
   "cell_type": "code",
   "execution_count": 73,
   "metadata": {},
   "outputs": [
    {
     "data": {
      "text/plain": [
       "[[62.0, 94.0, 156.0],\n",
       " [5.225806451612903, 17.24468085106383, 2.5384615384615383],\n",
       " [3.2764402656517215, 1.6176856574427694, 0.7128734709665805],\n",
       " [1.0, 13.0, 1.0],\n",
       " [2.0, 16.0, 2.0],\n",
       " [4.0, 18.0, 3.0],\n",
       " [8.0, 19.0, 3.0],\n",
       " [12.0, 19.0, 3.0]]"
      ]
     },
     "execution_count": 73,
     "metadata": {},
     "output_type": "execute_result"
    }
   ],
   "source": [
    "pasUpto19_stat_lst = pasUpto19_stat.values.tolist()\n",
    "pasUpto19_stat_lst"
   ]
  },
  {
   "cell_type": "markdown",
   "metadata": {},
   "source": [
    "Print rows where AGE_12 >= mean of AGE_12 or AGE_TEEN >= mean AGE_TEEN."
   ]
  },
  {
   "cell_type": "code",
   "execution_count": 93,
   "metadata": {},
   "outputs": [
    {
     "name": "stdout",
     "output_type": "stream",
     "text": [
      "     AGE_12  AGE_TEEN  PCLASS\n",
      "24      8.0       NaN       3\n",
      "27      NaN      19.0       1\n",
      "38      NaN      18.0       3\n",
      "44      NaN      19.0       3\n",
      "49      NaN      18.0       3\n",
      "..      ...       ...     ...\n",
      "834     NaN      18.0       3\n",
      "852     9.0       NaN       3\n",
      "855     NaN      18.0       3\n",
      "877     NaN      19.0       3\n",
      "887     NaN      19.0       1\n",
      "\n",
      "[76 rows x 3 columns]\n"
     ]
    }
   ],
   "source": [
    "mean12 = pasUpto19['AGE_12'].mean()\n",
    "meanTeen = pasUpto19['AGE_TEEN'].mean()\n",
    "print(pasUpto19[(pasUpto19['AGE_12'] >= mean12) | (pasUpto19['AGE_TEEN'] >= meanTeen)])"
   ]
  },
  {
   "cell_type": "markdown",
   "metadata": {
    "collapsed": true
   },
   "source": [
    "## Use of method \"eval(Age ...)\""
   ]
  },
  {
   "cell_type": "markdown",
   "metadata": {
    "collapsed": true
   },
   "source": [
    "<b>Sample Code Snippet:</b><br>\n",
    "<p>\n",
    "dic = {\"x\": pd.Series([2,-1,3,5], name=\"x\"),\n",
    "      \"y\": pd.Series((10,11,12), name=\"y\")\n",
    "      }<br>\n",
    "df = pd.DataFrame(dic)<br>\n",
    "print(df)<br>\n",
    "df.eval(\"x == 5\")\n",
    "</p>"
   ]
  },
  {
   "cell_type": "markdown",
   "metadata": {},
   "source": [
    "Get passengers whose age is in \\[3,7) or in \\[12, 15] and store into \"pas3to6_12to15\":"
   ]
  },
  {
   "cell_type": "code",
   "execution_count": 141,
   "metadata": {},
   "outputs": [
    {
     "name": "stdout",
     "output_type": "stream",
     "text": [
      "     PassengerId  Survived  Pclass                                      Name  \\\n",
      "9             10         1       2       Nasser, Mrs. Nicholas (Adele Achem)   \n",
      "10            11         1       3           Sandstrom, Miss. Marguerite Rut   \n",
      "14            15         0       3      Vestrom, Miss. Hulda Amanda Adolfina   \n",
      "22            23         1       3               McGowan, Miss. Anna \"Annie\"   \n",
      "39            40         1       3               Nicola-Yarred, Miss. Jamila   \n",
      "43            44         1       2  Laroche, Miss. Simonne Marie Anne Andree   \n",
      "58            59         1       2              West, Miss. Constance Mirium   \n",
      "63            64         0       3                     Skoog, Master. Harald   \n",
      "111          112         0       3                      Zabour, Miss. Hileni   \n",
      "125          126         1       3              Nicola-Yarred, Master. Elias   \n",
      "171          172         0       3                      Rice, Master. Arthur   \n",
      "184          185         1       3       Kink-Heilmann, Miss. Luise Gretchen   \n",
      "193          194         1       2                Navratil, Master. Michel M   \n",
      "233          234         1       3            Asplund, Miss. Lillian Gertrud   \n",
      "261          262         1       3         Asplund, Master. Edvin Rojj Felix   \n",
      "348          349         1       3    Coutts, Master. William Loch \"William\"   \n",
      "352          353         0       3                        Elias, Mr. Tannous   \n",
      "374          375         0       3                Palsson, Miss. Stina Viola   \n",
      "407          408         1       2            Richards, Master. William Rowe   \n",
      "435          436         1       1                 Carter, Miss. Lucile Polk   \n",
      "445          446         1       1                 Dodge, Master. Washington   \n",
      "446          447         1       2         Mellinger, Miss. Madeleine Violet   \n",
      "448          449         1       3            Baclini, Miss. Marie Catherine   \n",
      "618          619         1       2               Becker, Miss. Marion Louise   \n",
      "683          684         0       3               Goodwin, Mr. Charles Edward   \n",
      "686          687         0       3                  Panula, Mr. Jaako Arnold   \n",
      "689          690         1       1         Madill, Miss. Georgette Alexandra   \n",
      "691          692         1       3                        Karun, Miss. Manca   \n",
      "720          721         1       2         Harper, Miss. Annie Jessie \"Nina\"   \n",
      "750          751         1       2                         Wells, Miss. Joan   \n",
      "751          752         1       3                       Moor, Master. Meier   \n",
      "777          778         1       3             Emanuel, Miss. Virginia Ethel   \n",
      "780          781         1       3                      Ayoub, Miss. Banoura   \n",
      "813          814         0       3        Andersson, Miss. Ebba Iris Alfrida   \n",
      "830          831         1       3   Yasbeck, Mrs. Antoni (Selini Alexander)   \n",
      "850          851         0       3   Andersson, Master. Sigvard Harald Elias   \n",
      "869          870         1       3           Johnson, Master. Harold Theodor   \n",
      "875          876         1       3          Najib, Miss. Adele Kiamie \"Jane\"   \n",
      "\n",
      "        Sex   Age  SibSp  Parch         Ticket      Fare    Cabin Embarked  \n",
      "9    female  14.0      1      0         237736   30.0708      NaN        C  \n",
      "10   female   4.0      1      1        PP 9549   16.7000       G6        S  \n",
      "14   female  14.0      0      0         350406    7.8542      NaN        S  \n",
      "22   female  15.0      0      0         330923    8.0292      NaN        Q  \n",
      "39   female  14.0      1      0           2651   11.2417      NaN        C  \n",
      "43   female   3.0      1      2  SC/Paris 2123   41.5792      NaN        C  \n",
      "58   female   5.0      1      2     C.A. 34651   27.7500      NaN        S  \n",
      "63     male   4.0      3      2         347088   27.9000      NaN        S  \n",
      "111  female  14.5      1      0           2665   14.4542      NaN        C  \n",
      "125    male  12.0      1      0           2651   11.2417      NaN        C  \n",
      "171    male   4.0      4      1         382652   29.1250      NaN        Q  \n",
      "184  female   4.0      0      2         315153   22.0250      NaN        S  \n",
      "193    male   3.0      1      1         230080   26.0000       F2        S  \n",
      "233  female   5.0      4      2         347077   31.3875      NaN        S  \n",
      "261    male   3.0      4      2         347077   31.3875      NaN        S  \n",
      "348    male   3.0      1      1     C.A. 37671   15.9000      NaN        S  \n",
      "352    male  15.0      1      1           2695    7.2292      NaN        C  \n",
      "374  female   3.0      3      1         349909   21.0750      NaN        S  \n",
      "407    male   3.0      1      1          29106   18.7500      NaN        S  \n",
      "435  female  14.0      1      2         113760  120.0000  B96 B98        S  \n",
      "445    male   4.0      0      2          33638   81.8583      A34        S  \n",
      "446  female  13.0      0      1         250644   19.5000      NaN        S  \n",
      "448  female   5.0      2      1           2666   19.2583      NaN        C  \n",
      "618  female   4.0      2      1         230136   39.0000       F4        S  \n",
      "683    male  14.0      5      2        CA 2144   46.9000      NaN        S  \n",
      "686    male  14.0      4      1        3101295   39.6875      NaN        S  \n",
      "689  female  15.0      0      1          24160  211.3375       B5        S  \n",
      "691  female   4.0      0      1         349256   13.4167      NaN        C  \n",
      "720  female   6.0      0      1         248727   33.0000      NaN        S  \n",
      "750  female   4.0      1      1          29103   23.0000      NaN        S  \n",
      "751    male   6.0      0      1         392096   12.4750     E121        S  \n",
      "777  female   5.0      0      0         364516   12.4750      NaN        S  \n",
      "780  female  13.0      0      0           2687    7.2292      NaN        C  \n",
      "813  female   6.0      4      2         347082   31.2750      NaN        S  \n",
      "830  female  15.0      1      0           2659   14.4542      NaN        C  \n",
      "850    male   4.0      4      2         347082   31.2750      NaN        S  \n",
      "869    male   4.0      1      1         347742   11.1333      NaN        S  \n",
      "875  female  15.0      0      0           2667    7.2250      NaN        C  \n"
     ]
    }
   ],
   "source": [
    "bool_series = data.eval(\"(Age>=3 & Age<7) | (Age>=12 & Age<=15)\")\n",
    "past3to6_12to15 = data[bool_series]\n",
    "print(past3to6_12to15)"
   ]
  },
  {
   "cell_type": "markdown",
   "metadata": {},
   "source": [
    "## Plots"
   ]
  },
  {
   "cell_type": "markdown",
   "metadata": {},
   "source": [
    "Create a figure \"Plots for Pclass and Age\"<br>\n",
    "Plot histograms for \"PCLASS\", \"AGE_12\", and \"AGE_TEEN\" side by side:"
   ]
  },
  {
   "cell_type": "code",
   "execution_count": 140,
   "metadata": {},
   "outputs": [
    {
     "data": {
      "image/png": "[encoded data removed]",
      "text/plain": [
       "<Figure size 720x360 with 3 Axes>"
      ]
     },
     "metadata": {
      "needs_background": "light"
     },
     "output_type": "display_data"
    }
   ],
   "source": [
    "fig, axes = plt.subplots(nrows = 1, ncols=3, figsize=(10, 5))\n",
    "\n",
    "fig.suptitle('Plots for Pclass and Age')\n",
    "#first img\n",
    "\n",
    "axes[0].set_title(\"PCLASS\")\n",
    "axes[1].set_title(\"AGE_12\")\n",
    "axes[2].set_title(\"AGE_TEEN\")\n",
    "\n",
    "axes[0].hist(pasUpto19[\"PCLASS\"])\n",
    "axes[1].hist(pasUpto19[\"AGE_12\"])\n",
    "axes[2].hist(pasUpto19[\"AGE_TEEN\"])\n",
    "\n",
    "plt.show()"
   ]
  },
  {
   "cell_type": "markdown",
   "metadata": {},
   "source": [
    "Add a scatter plot for \"PCLASS\" vs. \"AGE_12\" into the first cell and \"PCLASS\" vs. \"AGE_TEEN\" into the last cell on the same figure at the second row:"
   ]
  },
  {
   "cell_type": "code",
   "execution_count": 164,
   "metadata": {},
   "outputs": [
    {
     "data": {
      "image/png": "[encoded data removed]",
      "text/plain": [
       "<Figure size 720x720 with 6 Axes>"
      ]
     },
     "metadata": {
      "needs_background": "light"
     },
     "output_type": "display_data"
    }
   ],
   "source": [
    "fig, axes = plt.subplots(nrows = 2, ncols=3, figsize=(10, 10))\n",
    "axes[0,0].set_title(\"PCLASS\")\n",
    "axes[0,1].set_title(\"AGE_12\")\n",
    "axes[0,2].set_title(\"AGE_TEEN\")\n",
    "\n",
    "axes[0,0].hist(pasUpto19[\"PCLASS\"])\n",
    "axes[0,1].hist(pasUpto19[\"AGE_12\"])\n",
    "axes[0,2].hist(pasUpto19[\"AGE_TEEN\"])\n",
    "\n",
    "\n",
    "axes[1,0].set_title(\"PCLASS vs AGE_12\")\n",
    "axes[1,2].set_title(\"PCLASS vs AGE_TEEN\")\n",
    "\n",
    "axes[1,0].scatter( pasUpto19['PCLASS'], pasUpto19['AGE_12'])\n",
    "axes[1,2].scatter( pasUpto19['PCLASS'], pasUpto19['AGE_TEEN'])\n",
    "\n",
    "plt.show()"
   ]
  },
  {
   "cell_type": "markdown",
   "metadata": {
    "collapsed": true
   },
   "source": [
    "## <center> REFERENCES </center>\n",
    "List resources (book, internet page, etc.) that you used to complete this challenge."
   ]
  },
  {
   "cell_type": "markdown",
   "metadata": {},
   "source": [
    "https://www.geeksforgeeks.org\n",
    "https://www.w3schools.com\n",
    "https://pandas.pydata.org"
   ]
  }
 ],
 "metadata": {
  "kernelspec": {
   "display_name": "Python 3 (ipykernel)",
   "language": "python",
   "name": "python3"
  },
  "language_info": {
   "codemirror_mode": {
    "name": "ipython",
    "version": 3
   },
   "file_extension": ".py",
   "mimetype": "text/x-python",
   "name": "python",
   "nbconvert_exporter": "python",
   "pygments_lexer": "ipython3",
   "version": "3.9.13"
  }
 },
 "nbformat": 4,
 "nbformat_minor": 2
}
